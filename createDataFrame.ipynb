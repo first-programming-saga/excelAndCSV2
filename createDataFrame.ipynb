{
  "cells": [
    {
      "metadata": {
        "collapsed": true
      },
      "cell_type": "markdown",
      "source": [
        "# pandas.DataFrameの基本的使い方\n",
        "\n",
        "プログラム内部で新たなdataFrameを生成する"
      ]
    },
    {
      "metadata": {
        "trusted": true
      },
      "cell_type": "code",
      "source": [
        "import pandas"
      ],
      "execution_count": null,
      "outputs": []
    },
    {
      "metadata": {},
      "cell_type": "markdown",
      "source": [
        "DataFrameの作り方：その1"
      ]
    },
    {
      "metadata": {
        "trusted": true,
        "scrolled": true
      },
      "cell_type": "code",
      "source": [
        "data={'数学':[90,70,100,60],\n",
        "      '理科':[80,90,90,70],\n",
        "      '英語':[80,100,80,90],\n",
        "      '社会':[70,90,70,80]}\n",
        "index=['山田','佐藤','鈴木','渡辺']\n",
        "df = pandas.DataFrame(data,index)\n",
        "df.index.name='名前'\n",
        "print(df)"
      ],
      "execution_count": null,
      "outputs": []
    },
    {
      "metadata": {},
      "cell_type": "markdown",
      "source": [
        "DataFrameの作り方：その2"
      ]
    },
    {
      "metadata": {
        "trusted": true
      },
      "cell_type": "code",
      "source": [
        "data2={'名前':['山田','佐藤','鈴木','渡辺'],\n",
        "       '数学':[90,70,100,60],\n",
        "       '理科':[80,90,90,70],\n",
        "       '英語':[80,100,80,90],\n",
        "       '社会':[70,90,70,80]}\n",
        "df2 = pandas.DataFrame(data2)\n",
        "df2.set_index('名前',inplace=True)\n",
        "print(df2)"
      ],
      "execution_count": null,
      "outputs": []
    },
    {
      "metadata": {},
      "cell_type": "markdown",
      "source": [
        "新しい列の生成"
      ]
    },
    {
      "metadata": {
        "trusted": true
      },
      "cell_type": "code",
      "source": [
        "label = '体育'\n",
        "record = [90,70,80,100]\n",
        "df[label] = record\n",
        "print(df)"
      ],
      "execution_count": null,
      "outputs": []
    },
    {
      "metadata": {},
      "cell_type": "markdown",
      "source": [
        "新しい行の生成"
      ]
    },
    {
      "metadata": {
        "trusted": true
      },
      "cell_type": "code",
      "source": [
        "name='古賀'\n",
        "recordKoga = [90,90,85,70,70]\n",
        "df.loc[name] =  recordKoga\n",
        "print(df)"
      ],
      "execution_count": null,
      "outputs": []
    },
    {
      "source": [
        "平均値を求める準備として、一番下に全て0の行を作る"
      ],
      "cell_type": "markdown",
      "metadata": {}
    },
    {
      "cell_type": "code",
      "execution_count": null,
      "metadata": {},
      "outputs": [],
      "source": [
        "df.loc['平均']=[0]*len(df.columns)\n",
        "print(df)"
      ]
    },
    {
      "metadata": {},
      "cell_type": "markdown",
      "source": [
        "Excelファイルの出力"
      ]
    },
    {
      "metadata": {
        "trusted": true
      },
      "cell_type": "code",
      "source": [
        "df.to_excel('tmp-out.xlsx')"
      ],
      "execution_count": null,
      "outputs": []
    },
    {
      "metadata": {
        "trusted": true
      },
      "cell_type": "code",
      "source": [],
      "execution_count": null,
      "outputs": []
    }
  ],
  "metadata": {
    "kernelspec": {
      "name": "python3",
      "display_name": "Python 3.8.7 64-bit",
      "metadata": {
        "interpreter": {
          "hash": "d1c9a4ba5c9c176023b797405478169ed7f0a7109b887eab21bda023c3c6f220"
        }
      }
    },
    "language_info": {
      "mimetype": "text/x-python",
      "nbconvert_exporter": "python",
      "name": "python",
      "pygments_lexer": "ipython3",
      "version": "3.8.7-final",
      "file_extension": ".py",
      "codemirror_mode": {
        "version": 3,
        "name": "ipython"
      }
    }
  },
  "nbformat": 4,
  "nbformat_minor": 2
}