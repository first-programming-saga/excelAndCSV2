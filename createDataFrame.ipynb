{
  "cells": [
    {
      "metadata": {
        "collapsed": true
      },
      "cell_type": "markdown",
      "source": "# pandas.DataFrameの基本的使い方\n\nプログラム内部で新たなdataFrameを生成する"
    },
    {
      "metadata": {
        "trusted": true
      },
      "cell_type": "code",
      "source": "import pandas",
      "execution_count": null,
      "outputs": []
    },
    {
      "metadata": {},
      "cell_type": "markdown",
      "source": "DataFrameの作り方：その1"
    },
    {
      "metadata": {
        "trusted": true,
        "scrolled": true
      },
      "cell_type": "code",
      "source": "data={'数学':[90,70,100,60],\n      '理科':[80,90,90,70],\n      '英語':[80,100,80,90],\n      '社会':[70,90,70,80]}\nindex=['山田','佐藤','鈴木','渡辺']\ndf = pandas.DataFrame(data,index)\nprint(df)",
      "execution_count": null,
      "outputs": []
    },
    {
      "metadata": {},
      "cell_type": "markdown",
      "source": "DataFrameの作り方：その2"
    },
    {
      "metadata": {
        "trusted": true
      },
      "cell_type": "code",
      "source": "data2={'名前':['山田','佐藤','鈴木','渡辺'],\n       '数学':[90,70,100,60],\n       '理科':[80,90,90,70],\n       '英語':[80,100,80,90],\n       '社会':[70,90,70,80]}\ndf2 = pandas.DataFrame(data2)\ndf2.set_index('名前',inplace=True)\nprint(df2)",
      "execution_count": null,
      "outputs": []
    },
    {
      "metadata": {},
      "cell_type": "markdown",
      "source": "新しい列の生成"
    },
    {
      "metadata": {
        "trusted": true
      },
      "cell_type": "code",
      "source": "label = '体育'\nrecord = [90,70,80,100]\ndf[label] = record\nprint(df)",
      "execution_count": null,
      "outputs": []
    },
    {
      "metadata": {},
      "cell_type": "markdown",
      "source": "新しい行の生成"
    },
    {
      "metadata": {
        "trusted": true
      },
      "cell_type": "code",
      "source": "name='古賀'\nrecordKoga = [90,90,85,70,70]\ndf.loc[name] =  recordKoga\nprint(df)",
      "execution_count": null,
      "outputs": []
    },
    {
      "metadata": {},
      "cell_type": "markdown",
      "source": "Excelファイルの出力"
    },
    {
      "metadata": {
        "trusted": true
      },
      "cell_type": "code",
      "source": "df.to_excel('tmp-out.xlsx')\ndf2.to_excel('tmp-out2.xlsx')",
      "execution_count": null,
      "outputs": []
    },
    {
      "metadata": {
        "trusted": true
      },
      "cell_type": "code",
      "source": "",
      "execution_count": null,
      "outputs": []
    }
  ],
  "metadata": {
    "kernelspec": {
      "name": "python36",
      "display_name": "Python 3.6",
      "language": "python"
    },
    "language_info": {
      "mimetype": "text/x-python",
      "nbconvert_exporter": "python",
      "name": "python",
      "pygments_lexer": "ipython3",
      "version": "3.6.6",
      "file_extension": ".py",
      "codemirror_mode": {
        "version": 3,
        "name": "ipython"
      }
    }
  },
  "nbformat": 4,
  "nbformat_minor": 2
}