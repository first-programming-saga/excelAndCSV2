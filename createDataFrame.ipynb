{
  "cells": [
    {
      "attachments": {},
      "cell_type": "markdown",
      "metadata": {
        "collapsed": true
      },
      "source": [
        "# pandas.DataFrameの基本的使い方\n",
        "## プログラム内部で新たなdataFrameを生成する"
      ]
    },
    {
      "cell_type": "code",
      "execution_count": null,
      "metadata": {
        "trusted": true
      },
      "outputs": [],
      "source": [
        "import pandas"
      ]
    },
    {
      "attachments": {},
      "cell_type": "markdown",
      "metadata": {},
      "source": [
        "DataFrameの作り方：その1\n",
        "- 列のデータを辞書型で準備\n",
        "- 列のデータと行のラベルを指定"
      ]
    },
    {
      "cell_type": "code",
      "execution_count": null,
      "metadata": {
        "scrolled": true,
        "trusted": true
      },
      "outputs": [],
      "source": [
        "data = {'数学':[90, 70, 100, 60],\n",
        "      '理科':[80, 90, 90, 70],\n",
        "      '英語':[80, 100, 80, 90],\n",
        "      '社会':[70, 90, 70, 80]}\n",
        "index  = ['山田', '佐藤', '鈴木', '渡辺']\n",
        "df = pandas.DataFrame(data, index)\n",
        "df.index.name = '名前'\n",
        "print(df)"
      ]
    },
    {
      "attachments": {},
      "cell_type": "markdown",
      "metadata": {},
      "source": [
        "DataFrameの作り方：その2\n",
        "- 列のデータを辞書型で準備して生成\n",
        "- 特定の列をindexとして指定"
      ]
    },
    {
      "cell_type": "code",
      "execution_count": null,
      "metadata": {
        "trusted": true
      },
      "outputs": [],
      "source": [
        "data2 = {\n",
        "       '名前':['山田', '佐藤', '鈴木', '渡辺'],\n",
        "       '数学':[90, 70, 100, 60],\n",
        "       '理科':[80, 90, 90, 70],\n",
        "       '英語':[80, 100, 80, 90],\n",
        "       '社会':[70, 90, 70, 80]}\n",
        "df2 = pandas.DataFrame(data2)\n",
        "df2.set_index('名前', inplace = True)\n",
        "print(df2)"
      ]
    },
    {
      "attachments": {},
      "cell_type": "markdown",
      "metadata": {},
      "source": [
        "新しい列の生成"
      ]
    },
    {
      "cell_type": "code",
      "execution_count": null,
      "metadata": {
        "trusted": true
      },
      "outputs": [],
      "source": [
        "label = '体育'\n",
        "record = [90, 70, 80, 100]\n",
        "df[label] = record\n",
        "print(df)"
      ]
    },
    {
      "attachments": {},
      "cell_type": "markdown",
      "metadata": {},
      "source": [
        "新しい行の生成"
      ]
    },
    {
      "cell_type": "code",
      "execution_count": null,
      "metadata": {
        "trusted": true
      },
      "outputs": [],
      "source": [
        "name = '古賀'\n",
        "recordKoga = [90, 90, 85, 70, 70]\n",
        "df.loc[name] = recordKoga\n",
        "print(df)"
      ]
    },
    {
      "attachments": {},
      "cell_type": "markdown",
      "metadata": {},
      "source": [
        "Seriesを作って、行を追加する"
      ]
    },
    {
      "cell_type": "code",
      "execution_count": null,
      "metadata": {},
      "outputs": [],
      "source": [
        "name = '藤井'\n",
        "ser = pandas.Series([90, 75, 85, 100, 65], index = df.columns)\n",
        "print(ser)\n",
        "df.loc[name] = ser\n",
        "print(df)"
      ]
    },
    {
      "attachments": {},
      "cell_type": "markdown",
      "metadata": {},
      "source": [
        "Excelファイルの出力"
      ]
    },
    {
      "cell_type": "code",
      "execution_count": null,
      "metadata": {
        "trusted": true
      },
      "outputs": [],
      "source": [
        "#df.to_excel('tmp-out.xlsx')"
      ]
    },
    {
      "cell_type": "code",
      "execution_count": null,
      "metadata": {
        "trusted": true
      },
      "outputs": [],
      "source": [
        "with pandas.ExcelWriter('tmp-out.xlsx') as f:\n",
        "    df.to_excel(f)"
      ]
    },
    {
      "attachments": {},
      "cell_type": "markdown",
      "metadata": {},
      "source": [
        "DataFrameの作り方: その3\n",
        "\n",
        "列名だけを指定して、空のDataFrameを作る"
      ]
    },
    {
      "cell_type": "code",
      "execution_count": null,
      "metadata": {},
      "outputs": [],
      "source": [
        "df = pandas.DataFrame(columns=['名前','数学','英語'])\n",
        "df.set_index('名前',inplace=True)\n",
        "df"
      ]
    }
  ],
  "metadata": {
    "kernelspec": {
      "display_name": "Python 3.9.1 64-bit",
      "metadata": {
        "interpreter": {
          "hash": "d1c9a4ba5c9c176023b797405478169ed7f0a7109b887eab21bda023c3c6f220"
        }
      },
      "name": "python3"
    },
    "language_info": {
      "codemirror_mode": {
        "name": "ipython",
        "version": 3
      },
      "file_extension": ".py",
      "mimetype": "text/x-python",
      "name": "python",
      "nbconvert_exporter": "python",
      "pygments_lexer": "ipython3",
      "version": "3.10.8"
    }
  },
  "nbformat": 4,
  "nbformat_minor": 2
}
