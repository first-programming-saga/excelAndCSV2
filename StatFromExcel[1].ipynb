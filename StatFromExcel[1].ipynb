{
  "cells": [
    {
      "metadata": {
        "collapsed": true
      },
      "cell_type": "markdown",
      "source": "# 課題\ndata.xlsxファイルを読み込み、各人の成績の平均、各教科の平均を求め、data-out-sample.xlsxのようなファイルを出力するプログラムを作成しなさい。\nこのファイルを書き換えることで作成しなさい。"
    },
    {
      "metadata": {
        "trusted": true
      },
      "cell_type": "code",
      "source": "import pandas",
      "execution_count": null,
      "outputs": []
    },
    {
      "metadata": {},
      "cell_type": "markdown",
      "source": "xlsxファイルを読み、panda.DataFrame形式にする"
    },
    {
      "metadata": {
        "trusted": true
      },
      "cell_type": "code",
      "source": "def readExcel(filename):\n    with pandas.ExcelFile(filename) as f:\n        data = pandas.read_excel(f)\n    #1カラム目のタイトル'name'をインデクスとして設定\n    data.set_index('name',inplace=True)\n    return data",
      "execution_count": null,
      "outputs": []
    },
    {
      "metadata": {},
      "cell_type": "markdown",
      "source": "科目と個人の平均を記入するために、新規に列と行を追加する"
    },
    {
      "metadata": {
        "trusted": true
      },
      "cell_type": "code",
      "source": "def addAverageColumnAndRow(df):\n    df['IndividualAverage']=[0]*len(df.index)\n    df.loc['SubjectAverage']=[0]*len(df.columns)",
      "execution_count": null,
      "outputs": []
    },
    {
      "metadata": {},
      "cell_type": "markdown",
      "source": "各人の成績\n\n- 各行（各人）を選ぶ（ただし、ラベルが'SubjectAverage'でないもの)\n    - 行のデータはSeries。キー（科目）で一つずつ読む（ただし、ラベルが'IndividualAverage'でないもの）"
    },
    {
      "metadata": {
        "trusted": true
      },
      "cell_type": "code",
      "source": "def individualRecord(data):\n    for name in data.index:#各行を選ぶ\n        if name != 'SubjectAverage':\n            print(f'----{name}----')\n            ser = data.loc[name]#一行のデータ(series)\n            for k in ser.keys():\n                if k != 'IndividualAverage':\n                    v=ser[k]\n                    print(f'{k}:{v}')           ",
      "execution_count": null,
      "outputs": []
    },
    {
      "metadata": {},
      "cell_type": "markdown",
      "source": "各人の成績平均\n\n- 各行（各人）を選ぶ（ただし、ラベルが'SubjectAverage'でないもの)\n    - 各人の成績の和を表す変数と科目をカウントする変数をゼロにする\n    - 行のデータはSeries。キー（科目）で一つずつ読む（ただし、ラベルが'IndividualAverage'でないもの）\n        - 成績を和に加算し、科目カウントを１増やす\n    - 和をカウントで除し、'IndividualAverage'に記入"
    },
    {
      "metadata": {
        "trusted": true
      },
      "cell_type": "code",
      "source": "def individualAverage(data):\n    print('未実装')",
      "execution_count": null,
      "outputs": []
    },
    {
      "metadata": {},
      "cell_type": "markdown",
      "source": "科目の成績\n\n- 各列（各科目）を選ぶ（ただし、ラベルが'IndividualAverage'でないもの)。\n     - 列のデータはSeries。キー（人）で一つずつ読む（ただし、ラベルが'SubjectAverage'でないもの）"
    },
    {
      "metadata": {
        "trusted": true
      },
      "cell_type": "code",
      "source": "def subjectRecord(data):\n    for subject in data.columns:#各列を選ぶ\n        if subject != 'IndividualAverage':\n            print(f'----{subject}----')\n            ser = data[subject]#一列のデータ(series)\n            for k in ser.keys():\n                if k != 'SubjectAverage':\n                    v = ser[k]\n                    print(f'{k}:{v}')     ",
      "execution_count": null,
      "outputs": []
    },
    {
      "metadata": {},
      "cell_type": "markdown",
      "source": "科目の成績\n\n- 各列（各科目）を選ぶ（ただし、ラベルが'IndividualAverage'でないもの)。\n    - 各科目の成績の和を表す変数と人数をカウントする変数をゼロにする\n    - 列のデータはSeries。キー（人）で一つずつ読む（ただし、ラベルが'SubjectAverage'でないもの）\n        - 成績を和に加算し、科目カウントを１増やす\n    - 和をカウントで除し、'SubjectAverage'に記入"
    },
    {
      "metadata": {
        "trusted": true
      },
      "cell_type": "code",
      "source": "def subjectAverage(data):\n    print('未実装')",
      "execution_count": null,
      "outputs": []
    },
    {
      "metadata": {
        "trusted": true
      },
      "cell_type": "code",
      "source": "filename = \"data.xlsx\"\ndf = readExcel(filename)\naddAverageColumnAndRow(df)\nindividualRecord(df)\n#subjectRecord(df)",
      "execution_count": null,
      "outputs": []
    },
    {
      "metadata": {
        "trusted": true
      },
      "cell_type": "code",
      "source": "",
      "execution_count": null,
      "outputs": []
    }
  ],
  "metadata": {
    "kernelspec": {
      "name": "python36",
      "display_name": "Python 3.6",
      "language": "python"
    },
    "language_info": {
      "mimetype": "text/x-python",
      "nbconvert_exporter": "python",
      "name": "python",
      "pygments_lexer": "ipython3",
      "version": "3.6.6",
      "file_extension": ".py",
      "codemirror_mode": {
        "version": 3,
        "name": "ipython"
      }
    }
  },
  "nbformat": 4,
  "nbformat_minor": 2
}