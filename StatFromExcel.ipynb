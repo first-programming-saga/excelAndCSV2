{
  "cells": [
    {
      "attachments": {},
      "cell_type": "markdown",
      "metadata": {
        "collapsed": true
      },
      "source": [
        "# 課題\n",
        "data.xlsxファイルを読み込み、各人の成績の総和、各教科の平均と標準偏差を求めます。順を追って確認しなさい。"
      ]
    },
    {
      "cell_type": "code",
      "execution_count": null,
      "metadata": {
        "trusted": true
      },
      "outputs": [],
      "source": [
        "import pandas"
      ]
    },
    {
      "attachments": {},
      "cell_type": "markdown",
      "metadata": {},
      "source": [
        "xlsxファイルを読み、panda.DataFrame形式にする"
      ]
    },
    {
      "cell_type": "code",
      "execution_count": null,
      "metadata": {
        "trusted": true
      },
      "outputs": [],
      "source": [
        "def readExcel(filename:str)->pandas.DataFrame:\n",
        "    with pandas.ExcelFile(filename) as f:\n",
        "        data = pandas.read_excel(f)\n",
        "    #1カラム目のタイトル'name'をインデクスとして設定\n",
        "    data.set_index('name', inplace = True)\n",
        "    return data"
      ]
    },
    {
      "attachments": {},
      "cell_type": "markdown",
      "metadata": {},
      "source": [
        "数学と理科の平均値\n",
        "- Seriesの和を計算する\n",
        "- Seriesの各要素に定数をかける"
      ]
    },
    {
      "cell_type": "code",
      "execution_count": null,
      "metadata": {},
      "outputs": [],
      "source": [
        "def mathAndSci(data:pandas.DataFrame)->pandas.Series:\n",
        "    ser : pandas.Series = ( data['Math'] + data['Science'] ) / 2\n",
        "#    ser = pandas.Series([0.] * len(data.index),index = data.index)\n",
        "#    for ind in data.index:\n",
        "#        ser[ind] = ( 1.*data['Math'][ind] + data['Science'][ind]) / 2\n",
        "    return ser"
      ]
    },
    {
      "attachments": {},
      "cell_type": "markdown",
      "metadata": {},
      "source": [
        "個人の成績の和\n",
        "- DataFrame全体で列方向に和を計算する"
      ]
    },
    {
      "cell_type": "code",
      "execution_count": null,
      "metadata": {},
      "outputs": [],
      "source": [
        "def personalSum(data:pandas.DataFrame):\n",
        "    sum_result : pandas.Series = data.sum(axis = 'columns')\n",
        "    data['sum'] = sum_result"
      ]
    },
    {
      "attachments": {},
      "cell_type": "markdown",
      "metadata": {},
      "source": [
        "科目の平均値\n",
        "- DataFrame全体で行方向に平均を計算する"
      ]
    },
    {
      "cell_type": "code",
      "execution_count": null,
      "metadata": {
        "trusted": true
      },
      "outputs": [],
      "source": [
        "def subjectAverage(data:pandas.DataFrame):\n",
        "    average :pandas.Series = data.mean(axis = 'index')\n",
        "    data.loc['average'] = average\n"
      ]
    },
    {
      "attachments": {},
      "cell_type": "markdown",
      "metadata": {},
      "source": [
        "科目の標準偏差\n",
        "- DataFrame全体で行方向に分散を計算する\n",
        "- defaultでは、$n-1$で規格化。$n$で規格化するには`ddof=0`とする"
      ]
    },
    {
      "cell_type": "code",
      "execution_count": null,
      "metadata": {},
      "outputs": [],
      "source": [
        "def subjectStd(data:pandas.DataFrame,students:list[str]):\n",
        "    df = data.filter(items=students,axis='index')#学生のデータのみ抽出\n",
        "    std :pandas.Series = df.std(axis = 'index',ddof=0)\n",
        "    data.loc['std'] = std.round(1)"
      ]
    },
    {
      "attachments": {},
      "cell_type": "markdown",
      "metadata": {},
      "source": [
        "科目の中央値\n",
        "- `median()`メソッドを使う"
      ]
    },
    {
      "cell_type": "code",
      "execution_count": null,
      "metadata": {},
      "outputs": [],
      "source": [
        "def subjectMedian(data:pandas.DataFrame,students:list[str]):\n",
        "    df = data.filter(items=students,axis='index')#学生のデータのみ抽出\n",
        "\n",
        "    return None"
      ]
    },
    {
      "cell_type": "code",
      "execution_count": null,
      "metadata": {
        "trusted": true
      },
      "outputs": [],
      "source": [
        "filename :str = \"data.xlsx\"\n",
        "df = readExcel(filename)#xlsxファイルを読み、panda.DataFrame形式にする\n",
        "students = list(df.index)\n",
        "#数学と理科の平均値を求める\n",
        "#a = mathAndSci(df)\n",
        "#print(a)\n",
        "#成績処理\n",
        "#personalSum(df)\n",
        "#subjectAverage(df)\n",
        "#subjectStd(df, students)\n",
        "#subjectMedian(df)\n",
        "#print(df)"
      ]
    }
  ],
  "metadata": {
    "kernelspec": {
      "display_name": "myenv",
      "language": "python",
      "name": "python3"
    },
    "language_info": {
      "codemirror_mode": {
        "name": "ipython",
        "version": 3
      },
      "file_extension": ".py",
      "mimetype": "text/x-python",
      "name": "python",
      "nbconvert_exporter": "python",
      "pygments_lexer": "ipython3",
      "version": "3.11.6"
    },
    "vscode": {
      "interpreter": {
        "hash": "b3b804b6b7a7d9b475cf928428dd1242016eacc24c47853aaf0f8d1d2228aa39"
      }
    }
  },
  "nbformat": 4,
  "nbformat_minor": 2
}
