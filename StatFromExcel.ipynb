{
  "cells": [
    {
      "metadata": {
        "collapsed": true
      },
      "cell_type": "markdown",
      "source": "# 課題\ndata.xlsxファイルを読み込み、各人の成績の平均、各教科の平均を求め、data-out-sample.xlsxのようなファイルを出力するプログラムを作成しなさい。\nこのファイルを書き換えることで作成しなさい。"
    },
    {
      "metadata": {
        "trusted": true
      },
      "cell_type": "code",
      "source": "import pandas\nsubjectAverageLabel = 'SubjectAverage'",
      "execution_count": null,
      "outputs": []
    },
    {
      "metadata": {},
      "cell_type": "markdown",
      "source": "xlsxファイルを読み、panda.DataFrame形式にする"
    },
    {
      "metadata": {
        "trusted": true
      },
      "cell_type": "code",
      "source": "def readExcel(filename):\n    with pandas.ExcelFile(filename) as f:\n        data = pandas.read_excel(f)\n    #1カラム目のタイトル'name'をインデクスとして設定\n    data.set_index('name',inplace=True)\n    return data",
      "execution_count": null,
      "outputs": []
    },
    {
      "metadata": {},
      "cell_type": "markdown",
      "source": "科目と個人の平均を記入するために、新規に列と行を追加する"
    },
    {
      "metadata": {
        "trusted": true
      },
      "cell_type": "code",
      "source": "def addAverageRow(df):\n    df.loc[subjectAverageLabel]=[0.]*len(df.columns)",
      "execution_count": null,
      "outputs": []
    },
    {
      "metadata": {},
      "cell_type": "markdown",
      "source": "科目の成績\n\n- 各列（各科目）を選ぶ（ただし、ラベルが'IndividualAverage'でないもの)。\n     - 列のデータはSeries。キー（人）で一つずつ読む（ただし、ラベルが'SubjectAverage'でないもの）"
    },
    {
      "metadata": {
        "trusted": true
      },
      "cell_type": "code",
      "source": "def subjectRecord(data):\n    for subject in data.columns:#各列を選ぶ\n        print(f'----{subject}----')\n        ser = data[subject]#一列のデータ(series)\n        for k in ser.keys():\n            if k != subjectAverageLabel:\n                v = ser[k]\n                print(f'{k}:{v}')     ",
      "execution_count": null,
      "outputs": []
    },
    {
      "metadata": {},
      "cell_type": "markdown",
      "source": "科目の成績\n\n- 各列（各科目）を選ぶ（ただし、ラベルが'IndividualAverage'でないもの)。\n    - 各科目の成績の和を表す変数と人数をカウントする変数をゼロにする\n    - 列のデータはSeries。キー（人）で一つずつ読む（ただし、ラベルが'SubjectAverage'でないもの）\n        - 成績を和に加算し、科目カウントを１増やす\n    - 和をカウントで除し、'SubjectAverage'に記入"
    },
    {
      "metadata": {
        "trusted": true
      },
      "cell_type": "code",
      "source": "def subjectAverage(data):\n    print('未実装')\n",
      "execution_count": null,
      "outputs": []
    },
    {
      "metadata": {
        "trusted": true
      },
      "cell_type": "code",
      "source": "filename = \"data.xlsx\"\ndf = readExcel(filename)#xlsxファイルを読み、panda.DataFrame形式にする\naddAverageRow(df)#科目と個人の平均を記入するために、新規に列と行を追加する\n\n#subjectRecord(df)\nsubjectAverage(df)\nprint(df)",
      "execution_count": null,
      "outputs": []
    },
    {
      "metadata": {
        "trusted": true
      },
      "cell_type": "code",
      "source": "",
      "execution_count": null,
      "outputs": []
    }
  ],
  "metadata": {
    "kernelspec": {
      "name": "python36",
      "display_name": "Python 3.6",
      "language": "python"
    },
    "language_info": {
      "mimetype": "text/x-python",
      "nbconvert_exporter": "python",
      "name": "python",
      "pygments_lexer": "ipython3",
      "version": "3.6.6",
      "file_extension": ".py",
      "codemirror_mode": {
        "version": 3,
        "name": "ipython"
      }
    }
  },
  "nbformat": 4,
  "nbformat_minor": 2
}