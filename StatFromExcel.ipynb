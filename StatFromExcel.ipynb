{
  "cells": [
    {
      "cell_type": "markdown",
      "metadata": {
        "collapsed": true
      },
      "source": [
        "# 課題\n",
        "data.xlsxファイルを読み込み、各人の成績の総和、各教科の平均と標準偏差を求めます。順を追って確認しなさい。"
      ]
    },
    {
      "cell_type": "code",
      "execution_count": null,
      "metadata": {
        "trusted": true
      },
      "outputs": [],
      "source": [
        "import pandas"
      ]
    },
    {
      "cell_type": "markdown",
      "metadata": {},
      "source": [
        "xlsxファイルを読み、panda.DataFrame形式にする"
      ]
    },
    {
      "cell_type": "code",
      "execution_count": null,
      "metadata": {
        "trusted": true
      },
      "outputs": [],
      "source": [
        "def readExcel(filename:str)->pandas.DataFrame:\n",
        "    with pandas.ExcelFile(filename) as f:\n",
        "        data = pandas.read_excel(f)\n",
        "    #1カラム目のタイトル'name'をインデクスとして設定\n",
        "    data.set_index('name', inplace = True)\n",
        "    return data"
      ]
    },
    {
      "cell_type": "markdown",
      "metadata": {},
      "source": [
        "数学と理科の平均値"
      ]
    },
    {
      "cell_type": "code",
      "execution_count": null,
      "metadata": {},
      "outputs": [],
      "source": [
        "def mathAndSci(data:pandas.DataFrame)->pandas.Series:\n",
        "    a :float = ( data['Math'] + data['Science'] ) / 2\n",
        "#    a = pandas.Series([0.] * len(data.index),index = data.index)\n",
        "#    for ind in data.index:\n",
        "#        a[ind] = ( 1.*data['Math'][ind] + data['Science'][ind]) / 2\n",
        "    return a"
      ]
    },
    {
      "cell_type": "markdown",
      "metadata": {},
      "source": [
        "個人の成績の和"
      ]
    },
    {
      "cell_type": "code",
      "execution_count": null,
      "metadata": {},
      "outputs": [],
      "source": [
        "def personalSum(data:pandas.DataFrame):\n",
        "    summary :int = data.sum(axis = 'columns')\n",
        "    data['sum'] = summary"
      ]
    },
    {
      "cell_type": "markdown",
      "metadata": {},
      "source": [
        "科目の平均値"
      ]
    },
    {
      "cell_type": "code",
      "execution_count": null,
      "metadata": {
        "trusted": true
      },
      "outputs": [],
      "source": [
        "def subjectAverage(data:pandas.DataFrame):\n",
        "    average :float = data.mean(axis = 'index')\n",
        "    data.loc['average'] = average\n"
      ]
    },
    {
      "cell_type": "markdown",
      "metadata": {},
      "source": [
        "科目の標準偏差"
      ]
    },
    {
      "cell_type": "code",
      "execution_count": null,
      "metadata": {},
      "outputs": [],
      "source": [
        "def subjectStd(data:pandas.DataFrame):\n",
        "    std :float = data.std(axis = 'index')\n",
        "    data.loc['std'] = std.round(1)"
      ]
    },
    {
      "cell_type": "markdown",
      "metadata": {},
      "source": [
        "科目の中央値"
      ]
    },
    {
      "cell_type": "code",
      "execution_count": null,
      "metadata": {},
      "outputs": [],
      "source": [
        "def subjectMedian(data:pandas.DataFrame):\n",
        "\n",
        "    "
      ]
    },
    {
      "cell_type": "code",
      "execution_count": null,
      "metadata": {
        "trusted": true
      },
      "outputs": [],
      "source": [
        "filename :str = \"data.xlsx\"\n",
        "df = readExcel(filename)#xlsxファイルを読み、panda.DataFrame形式にする\n",
        "#数学と理科の平均値を求める\n",
        "#a = mathAndSci(df)\n",
        "#print(a)\n",
        "#成績処理\n",
        "#personalSum(df)\n",
        "#subjectAverage(df)\n",
        "#subjectStd(df)\n",
        "#subjectMedian(df)\n",
        "#print(df)"
      ]
    }
  ],
  "metadata": {
    "kernelspec": {
      "display_name": "myenv",
      "language": "python",
      "name": "python3"
    },
    "language_info": {
      "codemirror_mode": {
        "name": "ipython",
        "version": 3
      },
      "file_extension": ".py",
      "mimetype": "text/x-python",
      "name": "python",
      "nbconvert_exporter": "python",
      "pygments_lexer": "ipython3",
      "version": "3.10.8 | packaged by conda-forge | (main, Nov 22 2022, 08:16:33) [MSC v.1929 64 bit (AMD64)]"
    },
    "vscode": {
      "interpreter": {
        "hash": "b3b804b6b7a7d9b475cf928428dd1242016eacc24c47853aaf0f8d1d2228aa39"
      }
    }
  },
  "nbformat": 4,
  "nbformat_minor": 2
}
