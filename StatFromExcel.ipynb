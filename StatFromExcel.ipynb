{
  "cells": [
    {
      "source": [
        "# 課題\n",
        "data.xlsxファイルを読み込み、各人の成績の総和、各教科の平均と標準偏差を求めます。順を追って確認しなさい。"
      ],
      "cell_type": "markdown",
      "metadata": {
        "collapsed": true
      }
    },
    {
      "metadata": {
        "trusted": true
      },
      "cell_type": "code",
      "source": [
        "import pandas"
      ],
      "execution_count": null,
      "outputs": []
    },
    {
      "metadata": {},
      "cell_type": "markdown",
      "source": [
        "xlsxファイルを読み、panda.DataFrame形式にする"
      ]
    },
    {
      "metadata": {
        "trusted": true
      },
      "cell_type": "code",
      "source": [
        "def readExcel(filename):\n",
        "    with pandas.ExcelFile(filename) as f:\n",
        "        data = pandas.read_excel(f)\n",
        "    #1カラム目のタイトル'name'をインデクスとして設定\n",
        "    data.set_index('name', inplace = True)\n",
        "    return data"
      ],
      "execution_count": null,
      "outputs": []
    },
    {
      "source": [
        "数学と理科の平均値"
      ],
      "cell_type": "markdown",
      "metadata": {}
    },
    {
      "cell_type": "code",
      "execution_count": null,
      "metadata": {},
      "outputs": [],
      "source": [
        "def mathAndSci(data):\n",
        "    a = ( data['Math'] + data['Science'] ) / 2\n",
        "#    a = pandas.Series([0.] * len(data.index),index = data.index)\n",
        "#    for ind in data.index:\n",
        "#        a[ind] = ( 1.*data['Math'][ind] + data['Science'][ind]) / 2\n",
        "    return a"
      ]
    },
    {
      "source": [
        "個人の成績の和"
      ],
      "cell_type": "markdown",
      "metadata": {}
    },
    {
      "cell_type": "code",
      "execution_count": null,
      "metadata": {},
      "outputs": [],
      "source": [
        "def personalSum(data):\n",
        "    summary = data.sum(axis = 'columns')\n",
        "    data['sum'] = summary"
      ]
    },
    {
      "source": [
        "科目の平均値"
      ],
      "cell_type": "markdown",
      "metadata": {}
    },
    {
      "metadata": {
        "trusted": true
      },
      "cell_type": "code",
      "source": [
        "def subjectAverage(data):\n",
        "    average = data.mean(axis = 'index')\n",
        "    data.loc['average'] = average\n"
      ],
      "execution_count": null,
      "outputs": []
    },
    {
      "source": [
        "科目の標準偏差"
      ],
      "cell_type": "markdown",
      "metadata": {}
    },
    {
      "cell_type": "code",
      "execution_count": null,
      "metadata": {},
      "outputs": [],
      "source": [
        "def subjectStd(data):\n",
        "    std = data.std(axis = 'index')\n",
        "    data.loc['std'] = std.round(1)"
      ]
    },
    {
      "source": [
        "科目の中央値"
      ],
      "cell_type": "markdown",
      "metadata": {}
    },
    {
      "cell_type": "code",
      "execution_count": null,
      "metadata": {},
      "outputs": [],
      "source": [
        "def subjectMedian(data)):\n",
        "\n",
        "    "
      ]
    },
    {
      "metadata": {
        "trusted": true
      },
      "cell_type": "code",
      "source": [
        "filename = \"data.xlsx\"\n",
        "df = readExcel(filename)#xlsxファイルを読み、panda.DataFrame形式にする\n",
        "#数学と理科の平均値を求める\n",
        "#a = mathAndSci(df)\n",
        "#print(a)\n",
        "#成績処理\n",
        "#personalSum(df)\n",
        "#subjectAverage(df)\n",
        "#subjectStd(df)\n",
        "#subjectMedian(df)\n",
        "#print(df)"
      ],
      "execution_count": null,
      "outputs": []
    },
    {
      "metadata": {
        "trusted": true
      },
      "cell_type": "code",
      "source": [],
      "execution_count": null,
      "outputs": []
    }
  ],
  "metadata": {
    "kernelspec": {
      "name": "python3",
      "display_name": "Python 3.9.1 64-bit",
      "metadata": {
        "interpreter": {
          "hash": "d1c9a4ba5c9c176023b797405478169ed7f0a7109b887eab21bda023c3c6f220"
        }
      }
    },
    "language_info": {
      "mimetype": "text/x-python",
      "nbconvert_exporter": "python",
      "name": "python",
      "pygments_lexer": "ipython3",
      "version": "3.9.1-final",
      "file_extension": ".py",
      "codemirror_mode": {
        "version": 3,
        "name": "ipython"
      }
    }
  },
  "nbformat": 4,
  "nbformat_minor": 2
}