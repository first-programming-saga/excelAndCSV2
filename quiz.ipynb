{
 "cells": [
  {
   "attachments": {},
   "cell_type": "markdown",
   "metadata": {},
   "source": [
    "# 課題\n",
    "data.xlsxファイルを読み込み、各教科の最高点、最低点、平均を表の下に追加しなさい。"
   ]
  },
  {
   "cell_type": "code",
   "execution_count": null,
   "metadata": {},
   "outputs": [],
   "source": [
    "import pandas"
   ]
  },
  {
   "cell_type": "markdown",
   "metadata": {},
   "source": [
    "xlsxファイルを読み、panda.DataFrame形式にする"
   ]
  },
  {
   "cell_type": "code",
   "execution_count": null,
   "metadata": {
    "trusted": true
   },
   "outputs": [],
   "source": [
    "def readExcel(filename:str)->pandas.DataFrame:\n",
    "    with pandas.ExcelFile(filename) as f:\n",
    "        data = pandas.read_excel(f)\n",
    "    #1カラム目のタイトル'name'をインデクスとして設定\n",
    "    data.set_index('name', inplace = True)\n",
    "    return data"
   ]
  },
  {
   "cell_type": "code",
   "execution_count": null,
   "metadata": {},
   "outputs": [],
   "source": [
    "filename :str = \"data.xlsx\"\n",
    "df = readExcel(filename)#xlsxファイルを読み、panda.DataFrame形式にする\n",
    "df.loc['最高点'] = df.max(axis='index')\n",
    "df.loc['最低点'] = df.min(axis='index')\n",
    "df.loc['平均'] = df.mean(axis='index').round(2)\n",
    "df"
   ]
  }
 ],
 "metadata": {
  "kernelspec": {
   "display_name": "myenv",
   "language": "python",
   "name": "python3"
  },
  "language_info": {
   "codemirror_mode": {
    "name": "ipython",
    "version": 3
   },
   "file_extension": ".py",
   "mimetype": "text/x-python",
   "name": "python",
   "nbconvert_exporter": "python",
   "pygments_lexer": "ipython3",
   "version": "3.10.8"
  },
  "orig_nbformat": 4,
  "vscode": {
   "interpreter": {
    "hash": "b3b804b6b7a7d9b475cf928428dd1242016eacc24c47853aaf0f8d1d2228aa39"
   }
  }
 },
 "nbformat": 4,
 "nbformat_minor": 2
}
