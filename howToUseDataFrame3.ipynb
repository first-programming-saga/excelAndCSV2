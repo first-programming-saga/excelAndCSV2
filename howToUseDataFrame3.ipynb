{
  "cells": [
    {
      "metadata": {},
      "cell_type": "markdown",
      "source": "# pandas.DataFrameの基本的使い方\nプログラム内部で新たなdataFrameを生成し、ファイルへ保存する例"
    },
    {
      "metadata": {
        "trusted": true
      },
      "cell_type": "code",
      "source": "import pandas",
      "execution_count": null,
      "outputs": []
    },
    {
      "metadata": {},
      "cell_type": "markdown",
      "source": "各カラムの値と、各行のラベルを指定する例。各行のラベルに対するカラム名は指定できない。"
    },
    {
      "metadata": {
        "trusted": true
      },
      "cell_type": "code",
      "source": "def createDataFrame():\n    data={'数学':[90,70,100,60],\n         '理科':[80,90,90,70],\n         '英語':[80,100,80,90],\n         '社会':[70,90,70,80]}\n    index=['山田','佐藤','鈴木','渡辺']\n    df = pandas.DataFrame(data,index)\n    return df",
      "execution_count": null,
      "outputs": []
    },
    {
      "metadata": {},
      "cell_type": "markdown",
      "source": "一番左のカラムをインデクスとして指定する例。一旦、各行のラベルもデータとして登録し、一番左のカラムをインデクスとして指定する。"
    },
    {
      "metadata": {
        "trusted": true
      },
      "cell_type": "code",
      "source": "def createDataFrame2():\n    data={'名前':['山田','佐藤','鈴木','渡辺'],\n          '数学':[90,70,100,60],\n          '理科':[80,90,90,70],\n          '英語':[80,100,80,90],\n          '社会':[70,90,70,80]}\n    df = pandas.DataFrame(data)\n    df.set_index('名前',inplace=True)\n    print(df)\n    return df",
      "execution_count": null,
      "outputs": []
    },
    {
      "metadata": {},
      "cell_type": "markdown",
      "source": "新たな行を追加する"
    },
    {
      "metadata": {
        "trusted": true
      },
      "cell_type": "code",
      "source": "def addRecord(df,name,record):\n    df.loc[name]=record\n    return df",
      "execution_count": null,
      "outputs": []
    },
    {
      "metadata": {},
      "cell_type": "markdown",
      "source": "新たな列を追加する"
    },
    {
      "metadata": {
        "trusted": true
      },
      "cell_type": "code",
      "source": "def addColumn(df,label,record):\n    df[label]=record\n    return df    ",
      "execution_count": null,
      "outputs": []
    },
    {
      "metadata": {
        "trusted": true
      },
      "cell_type": "code",
      "source": "df=createDataFrame()\nprint(df)\nprint('左端のカラムに名前を付ける')\ndf=createDataFrame2()\n\nprint('新しいレコード追加')\ndf=addRecord(df,'加藤',[90,90,65,80])\ndf=addRecord(df,'古賀',[80,90,70,80])\nprint(df)\nprint('新しい列追加')\ndf = addColumn(df,'体育',[90,70,80,100,90,70])\n\n#値で整列\nprint('数学で整列')\ndf.sort_values('数学',inplace=True)\nprint(df)\n\n#インデクスで整列\nprint('名前で整列')\ndf.sort_index(inplace=True)\nprint(df)\n\n#ファイルへ\ndf.to_csv('tmp-out.csv')\ndf.to_excel('tmp-out.xlsx')\nprint('インデクスをリセット')\ndf.reset_index('名前',inplace=True)\nprint(df)\nprint('数字のインデクスを外して、ファイルへ書きこむ')\ndf.to_csv('tmp-out-2.csv',index=False)\ndf.to_excel('tmp-out-2.xlsx',index=False)",
      "execution_count": null,
      "outputs": []
    },
    {
      "metadata": {
        "trusted": true
      },
      "cell_type": "code",
      "source": "",
      "execution_count": null,
      "outputs": []
    }
  ],
  "metadata": {
    "kernelspec": {
      "name": "python36",
      "display_name": "Python 3.6",
      "language": "python"
    },
    "language_info": {
      "mimetype": "text/x-python",
      "nbconvert_exporter": "python",
      "name": "python",
      "pygments_lexer": "ipython3",
      "version": "3.6.6",
      "file_extension": ".py",
      "codemirror_mode": {
        "version": 3,
        "name": "ipython"
      }
    }
  },
  "nbformat": 4,
  "nbformat_minor": 2
}